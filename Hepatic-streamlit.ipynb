{
 "cells": [
  {
   "cell_type": "code",
   "execution_count": 1,
   "id": "114f5734",
   "metadata": {},
   "outputs": [],
   "source": [
    "##Dataset Link: https://www.kaggle.com/ritesaluja/bank-note-authentication-uci-data\n",
    "import pandas as pd\n",
    "import numpy as np"
   ]
  },
  {
   "cell_type": "code",
   "execution_count": 2,
   "id": "29aefa66",
   "metadata": {},
   "outputs": [],
   "source": [
    "df=pd.read_csv('data/Henry_hepatic_panel2.csv')"
   ]
  },
  {
   "cell_type": "code",
   "execution_count": 3,
   "id": "b3319369",
   "metadata": {},
   "outputs": [
    {
     "data": {
      "text/html": [
       "<div>\n",
       "<style scoped>\n",
       "    .dataframe tbody tr th:only-of-type {\n",
       "        vertical-align: middle;\n",
       "    }\n",
       "\n",
       "    .dataframe tbody tr th {\n",
       "        vertical-align: top;\n",
       "    }\n",
       "\n",
       "    .dataframe thead th {\n",
       "        text-align: right;\n",
       "    }\n",
       "</style>\n",
       "<table border=\"1\" class=\"dataframe\">\n",
       "  <thead>\n",
       "    <tr style=\"text-align: right;\">\n",
       "      <th></th>\n",
       "      <th>Total_bilirubin</th>\n",
       "      <th>ALT</th>\n",
       "      <th>Alk_Phos</th>\n",
       "      <th>AST</th>\n",
       "      <th>GGT</th>\n",
       "      <th>Gender</th>\n",
       "      <th>Outcome</th>\n",
       "    </tr>\n",
       "  </thead>\n",
       "  <tbody>\n",
       "    <tr>\n",
       "      <th>0</th>\n",
       "      <td>9.441119</td>\n",
       "      <td>36.791244</td>\n",
       "      <td>76.764650</td>\n",
       "      <td>26.191645</td>\n",
       "      <td>43.205564</td>\n",
       "      <td>1</td>\n",
       "      <td>1</td>\n",
       "    </tr>\n",
       "    <tr>\n",
       "      <th>1</th>\n",
       "      <td>12.758202</td>\n",
       "      <td>30.752688</td>\n",
       "      <td>76.988811</td>\n",
       "      <td>26.968884</td>\n",
       "      <td>41.234771</td>\n",
       "      <td>0</td>\n",
       "      <td>1</td>\n",
       "    </tr>\n",
       "    <tr>\n",
       "      <th>2</th>\n",
       "      <td>11.886457</td>\n",
       "      <td>20.236067</td>\n",
       "      <td>69.085527</td>\n",
       "      <td>26.816799</td>\n",
       "      <td>27.447831</td>\n",
       "      <td>1</td>\n",
       "      <td>1</td>\n",
       "    </tr>\n",
       "    <tr>\n",
       "      <th>3</th>\n",
       "      <td>9.467049</td>\n",
       "      <td>35.785826</td>\n",
       "      <td>79.459414</td>\n",
       "      <td>24.198752</td>\n",
       "      <td>32.845424</td>\n",
       "      <td>1</td>\n",
       "      <td>1</td>\n",
       "    </tr>\n",
       "    <tr>\n",
       "      <th>4</th>\n",
       "      <td>10.324260</td>\n",
       "      <td>21.922535</td>\n",
       "      <td>80.326429</td>\n",
       "      <td>23.767753</td>\n",
       "      <td>51.327259</td>\n",
       "      <td>0</td>\n",
       "      <td>1</td>\n",
       "    </tr>\n",
       "    <tr>\n",
       "      <th>...</th>\n",
       "      <td>...</td>\n",
       "      <td>...</td>\n",
       "      <td>...</td>\n",
       "      <td>...</td>\n",
       "      <td>...</td>\n",
       "      <td>...</td>\n",
       "      <td>...</td>\n",
       "    </tr>\n",
       "    <tr>\n",
       "      <th>83</th>\n",
       "      <td>8.763597</td>\n",
       "      <td>23.718121</td>\n",
       "      <td>76.833119</td>\n",
       "      <td>22.744681</td>\n",
       "      <td>25.207048</td>\n",
       "      <td>1</td>\n",
       "      <td>0</td>\n",
       "    </tr>\n",
       "    <tr>\n",
       "      <th>84</th>\n",
       "      <td>11.337038</td>\n",
       "      <td>26.275182</td>\n",
       "      <td>78.818927</td>\n",
       "      <td>21.294692</td>\n",
       "      <td>27.004414</td>\n",
       "      <td>1</td>\n",
       "      <td>0</td>\n",
       "    </tr>\n",
       "    <tr>\n",
       "      <th>85</th>\n",
       "      <td>10.787440</td>\n",
       "      <td>16.655417</td>\n",
       "      <td>68.846640</td>\n",
       "      <td>20.761931</td>\n",
       "      <td>28.141710</td>\n",
       "      <td>0</td>\n",
       "      <td>0</td>\n",
       "    </tr>\n",
       "    <tr>\n",
       "      <th>86</th>\n",
       "      <td>7.227086</td>\n",
       "      <td>24.968131</td>\n",
       "      <td>63.066369</td>\n",
       "      <td>20.931733</td>\n",
       "      <td>31.518422</td>\n",
       "      <td>0</td>\n",
       "      <td>0</td>\n",
       "    </tr>\n",
       "    <tr>\n",
       "      <th>87</th>\n",
       "      <td>11.217910</td>\n",
       "      <td>26.347721</td>\n",
       "      <td>57.296197</td>\n",
       "      <td>25.716380</td>\n",
       "      <td>31.544632</td>\n",
       "      <td>1</td>\n",
       "      <td>0</td>\n",
       "    </tr>\n",
       "  </tbody>\n",
       "</table>\n",
       "<p>88 rows × 7 columns</p>\n",
       "</div>"
      ],
      "text/plain": [
       "    Total_bilirubin        ALT   Alk_Phos        AST        GGT  Gender  \\\n",
       "0          9.441119  36.791244  76.764650  26.191645  43.205564       1   \n",
       "1         12.758202  30.752688  76.988811  26.968884  41.234771       0   \n",
       "2         11.886457  20.236067  69.085527  26.816799  27.447831       1   \n",
       "3          9.467049  35.785826  79.459414  24.198752  32.845424       1   \n",
       "4         10.324260  21.922535  80.326429  23.767753  51.327259       0   \n",
       "..              ...        ...        ...        ...        ...     ...   \n",
       "83         8.763597  23.718121  76.833119  22.744681  25.207048       1   \n",
       "84        11.337038  26.275182  78.818927  21.294692  27.004414       1   \n",
       "85        10.787440  16.655417  68.846640  20.761931  28.141710       0   \n",
       "86         7.227086  24.968131  63.066369  20.931733  31.518422       0   \n",
       "87        11.217910  26.347721  57.296197  25.716380  31.544632       1   \n",
       "\n",
       "    Outcome  \n",
       "0         1  \n",
       "1         1  \n",
       "2         1  \n",
       "3         1  \n",
       "4         1  \n",
       "..      ...  \n",
       "83        0  \n",
       "84        0  \n",
       "85        0  \n",
       "86        0  \n",
       "87        0  \n",
       "\n",
       "[88 rows x 7 columns]"
      ]
     },
     "execution_count": 3,
     "metadata": {},
     "output_type": "execute_result"
    }
   ],
   "source": [
    "df"
   ]
  },
  {
   "cell_type": "code",
   "execution_count": 4,
   "id": "c623b9d5",
   "metadata": {},
   "outputs": [],
   "source": [
    "### Independent and Dependent features\n",
    "X=df.iloc[:,:-1]\n",
    "y=df.iloc[:,-1]"
   ]
  },
  {
   "cell_type": "code",
   "execution_count": 5,
   "id": "481a2136",
   "metadata": {},
   "outputs": [
    {
     "data": {
      "text/html": [
       "<div>\n",
       "<style scoped>\n",
       "    .dataframe tbody tr th:only-of-type {\n",
       "        vertical-align: middle;\n",
       "    }\n",
       "\n",
       "    .dataframe tbody tr th {\n",
       "        vertical-align: top;\n",
       "    }\n",
       "\n",
       "    .dataframe thead th {\n",
       "        text-align: right;\n",
       "    }\n",
       "</style>\n",
       "<table border=\"1\" class=\"dataframe\">\n",
       "  <thead>\n",
       "    <tr style=\"text-align: right;\">\n",
       "      <th></th>\n",
       "      <th>Total_bilirubin</th>\n",
       "      <th>ALT</th>\n",
       "      <th>Alk_Phos</th>\n",
       "      <th>AST</th>\n",
       "      <th>GGT</th>\n",
       "      <th>Gender</th>\n",
       "    </tr>\n",
       "  </thead>\n",
       "  <tbody>\n",
       "    <tr>\n",
       "      <th>0</th>\n",
       "      <td>9.441119</td>\n",
       "      <td>36.791244</td>\n",
       "      <td>76.764650</td>\n",
       "      <td>26.191645</td>\n",
       "      <td>43.205564</td>\n",
       "      <td>1</td>\n",
       "    </tr>\n",
       "    <tr>\n",
       "      <th>1</th>\n",
       "      <td>12.758202</td>\n",
       "      <td>30.752688</td>\n",
       "      <td>76.988811</td>\n",
       "      <td>26.968884</td>\n",
       "      <td>41.234771</td>\n",
       "      <td>0</td>\n",
       "    </tr>\n",
       "    <tr>\n",
       "      <th>2</th>\n",
       "      <td>11.886457</td>\n",
       "      <td>20.236067</td>\n",
       "      <td>69.085527</td>\n",
       "      <td>26.816799</td>\n",
       "      <td>27.447831</td>\n",
       "      <td>1</td>\n",
       "    </tr>\n",
       "    <tr>\n",
       "      <th>3</th>\n",
       "      <td>9.467049</td>\n",
       "      <td>35.785826</td>\n",
       "      <td>79.459414</td>\n",
       "      <td>24.198752</td>\n",
       "      <td>32.845424</td>\n",
       "      <td>1</td>\n",
       "    </tr>\n",
       "    <tr>\n",
       "      <th>4</th>\n",
       "      <td>10.324260</td>\n",
       "      <td>21.922535</td>\n",
       "      <td>80.326429</td>\n",
       "      <td>23.767753</td>\n",
       "      <td>51.327259</td>\n",
       "      <td>0</td>\n",
       "    </tr>\n",
       "  </tbody>\n",
       "</table>\n",
       "</div>"
      ],
      "text/plain": [
       "   Total_bilirubin        ALT   Alk_Phos        AST        GGT  Gender\n",
       "0         9.441119  36.791244  76.764650  26.191645  43.205564       1\n",
       "1        12.758202  30.752688  76.988811  26.968884  41.234771       0\n",
       "2        11.886457  20.236067  69.085527  26.816799  27.447831       1\n",
       "3         9.467049  35.785826  79.459414  24.198752  32.845424       1\n",
       "4        10.324260  21.922535  80.326429  23.767753  51.327259       0"
      ]
     },
     "execution_count": 5,
     "metadata": {},
     "output_type": "execute_result"
    }
   ],
   "source": [
    "X.head()"
   ]
  },
  {
   "cell_type": "code",
   "execution_count": 6,
   "id": "f20487ec",
   "metadata": {},
   "outputs": [
    {
     "data": {
      "text/plain": [
       "0     1\n",
       "1     1\n",
       "2     1\n",
       "3     1\n",
       "4     1\n",
       "5     1\n",
       "6     1\n",
       "7     1\n",
       "8     1\n",
       "9     1\n",
       "10    1\n",
       "11    1\n",
       "12    1\n",
       "13    1\n",
       "14    1\n",
       "15    1\n",
       "16    1\n",
       "17    1\n",
       "18    1\n",
       "19    1\n",
       "Name: Outcome, dtype: int64"
      ]
     },
     "execution_count": 6,
     "metadata": {},
     "output_type": "execute_result"
    }
   ],
   "source": [
    "y.head(20)"
   ]
  },
  {
   "cell_type": "code",
   "execution_count": 7,
   "id": "8838df01",
   "metadata": {},
   "outputs": [],
   "source": [
    "### Train Test Split\n",
    "from sklearn.model_selection import train_test_split"
   ]
  },
  {
   "cell_type": "code",
   "execution_count": 8,
   "id": "0165bcb3",
   "metadata": {},
   "outputs": [],
   "source": [
    "X_train,X_test,y_train,y_test=train_test_split(X,y,test_size=0.3,random_state=0)"
   ]
  },
  {
   "cell_type": "code",
   "execution_count": 9,
   "id": "b9a83006",
   "metadata": {},
   "outputs": [
    {
     "data": {
      "text/plain": [
       "RandomForestClassifier()"
      ]
     },
     "execution_count": 9,
     "metadata": {},
     "output_type": "execute_result"
    }
   ],
   "source": [
    "### Implement Random Forest classifier\n",
    "from sklearn.ensemble import RandomForestClassifier\n",
    "classifier=RandomForestClassifier()\n",
    "classifier.fit(X_train,y_train)"
   ]
  },
  {
   "cell_type": "code",
   "execution_count": 10,
   "id": "9204e991",
   "metadata": {},
   "outputs": [],
   "source": [
    "## Prediction\n",
    "y_pred=classifier.predict(X_test)"
   ]
  },
  {
   "cell_type": "code",
   "execution_count": 11,
   "id": "ef7452e2",
   "metadata": {},
   "outputs": [],
   "source": [
    "### Check Accuracy\n",
    "from sklearn.metrics import accuracy_score\n",
    "score=accuracy_score(y_test,y_pred)"
   ]
  },
  {
   "cell_type": "code",
   "execution_count": 12,
   "id": "7f559c8b",
   "metadata": {},
   "outputs": [
    {
     "data": {
      "text/plain": [
       "0.8148148148148148"
      ]
     },
     "execution_count": 12,
     "metadata": {},
     "output_type": "execute_result"
    }
   ],
   "source": [
    "score"
   ]
  },
  {
   "cell_type": "code",
   "execution_count": 13,
   "id": "8a9e89e6",
   "metadata": {},
   "outputs": [],
   "source": [
    "### Create a Pickle file using serialization \n",
    "import pickle\n",
    "pickle_out = open(\"HClassifier.pkl\",\"wb\")\n",
    "pickle.dump(classifier, pickle_out)\n",
    "pickle_out.close()"
   ]
  },
  {
   "cell_type": "code",
   "execution_count": 14,
   "id": "08eceb00",
   "metadata": {},
   "outputs": [],
   "source": [
    "import numpy as np"
   ]
  },
  {
   "cell_type": "code",
   "execution_count": null,
   "id": "1ce95293",
   "metadata": {},
   "outputs": [],
   "source": [
    "classifier.predict([[1,2,3,4,1,12,34,44]])"
   ]
  },
  {
   "cell_type": "code",
   "execution_count": null,
   "id": "751aad43",
   "metadata": {},
   "outputs": [],
   "source": []
  }
 ],
 "metadata": {
  "kernelspec": {
   "display_name": "Python 3",
   "language": "python",
   "name": "python3"
  },
  "language_info": {
   "codemirror_mode": {
    "name": "ipython",
    "version": 3
   },
   "file_extension": ".py",
   "mimetype": "text/x-python",
   "name": "python",
   "nbconvert_exporter": "python",
   "pygments_lexer": "ipython3",
   "version": "3.8.10"
  }
 },
 "nbformat": 4,
 "nbformat_minor": 5
}
